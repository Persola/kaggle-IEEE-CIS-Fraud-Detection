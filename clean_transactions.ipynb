{
 "cells": [
  {
   "cell_type": "code",
   "execution_count": 67,
   "metadata": {},
   "outputs": [],
   "source": [
    "import re\n",
    "import math\n",
    "\n",
    "import numpy as np\n",
    "import pandas as pd\n",
    "import pickle"
   ]
  },
  {
   "cell_type": "code",
   "execution_count": 68,
   "metadata": {},
   "outputs": [],
   "source": [
    "transactions_train = pd.read_csv('./data/train_transaction.csv')\n",
    "transactions_test = pd.read_csv('./data/test_transaction.csv')"
   ]
  },
  {
   "cell_type": "code",
   "execution_count": 69,
   "metadata": {},
   "outputs": [],
   "source": [
    "def extract_match_count(m4_value):\n",
    "    if type(m4_value) == float: # nan\n",
    "        return m4_value\n",
    "    else:\n",
    "        return float(re.search('M(\\d)', m4_value)[1]) # digit in string"
   ]
  },
  {
   "cell_type": "code",
   "execution_count": 70,
   "metadata": {},
   "outputs": [
    {
     "name": "stdout",
     "output_type": "stream",
     "text": [
      "ProductCD: object\n",
      "card4: object\n",
      "card6: object\n",
      "P_emaildomain: object\n",
      "R_emaildomain: object\n",
      "M1: object\n",
      "M2: object\n",
      "M3: object\n",
      "M4: object\n",
      "M5: object\n",
      "M6: object\n",
      "M7: object\n",
      "M8: object\n",
      "M9: object\n"
     ]
    }
   ],
   "source": [
    "for col_name in transactions_train:\n",
    "    if (transactions_train[col_name].dtype not in ('float64', 'int64')):\n",
    "        print(f'{col_name}: {transactions_train[col_name].dtype}')"
   ]
  },
  {
   "cell_type": "code",
   "execution_count": 71,
   "metadata": {},
   "outputs": [],
   "source": [
    "# Vesta's description of the columns:\n",
    "\n",
    "# TransactionDT: timedelta from a given reference datetime (not an actual timestamp)\n",
    "# TransactionAMT: transaction payment amount in USD\n",
    "# ProductCD: product code, the product for each transaction\n",
    "# card1 - card6: payment card information, such as card type, card category, issue bank, country, etc.\n",
    "# addr: address\n",
    "# dist: distance\n",
    "# P_ and (R__) emaildomain: purchaser and recipient email domain\n",
    "# C1-C14: counting, such as how many addresses are found to be associated with the payment card, etc. The actual meaning is masked.\n",
    "# D1-D15: timedelta, such as days between previous transaction, etc.\n",
    "# M1-M9: match, such as names on card and address, etc.\n",
    "# Vxxx: Vesta engineered rich features, including ranking, counting, and other entity relations.\n",
    "\n",
    "# Categorical Features:\n",
    "# ProductCD\n",
    "# card1 - card6\n",
    "# addr1, addr2\n",
    "# Pemaildomain Remaildomain\n",
    "# M1 - M9\n",
    "\n",
    "def clean(transaction_orig, verbose=False):\n",
    "    transactions = transaction_orig.copy()\n",
    "    # The 'M' columns should be boolean\n",
    "    for col_name in transactions:\n",
    "        if re.match('M\\d', col_name) and col_name != 'M4':\n",
    "            trues = transactions[col_name] == 'T'\n",
    "            falses = transactions[col_name] == 'F'\n",
    "            transactions.loc[trues, col_name] = True\n",
    "            transactions.loc[falses, col_name] = False\n",
    "            transactions[col_name] = transactions[col_name].astype('float')\n",
    "    # except M4, which seems to be counting a number of some kind of match (?)\n",
    "    transactions.M4 = transactions.M4.apply(extract_match_count)\n",
    "    return transactions.set_index('TransactionID');"
   ]
  },
  {
   "cell_type": "code",
   "execution_count": 72,
   "metadata": {},
   "outputs": [],
   "source": [
    "with open('./data/train_transaction_clean.pkl', 'wb') as train_clean_file:\n",
    "    pickle.dump(clean(transactions_train, verbose=True), train_clean_file)\n",
    "\n",
    "with open('./data/test_transaction_clean.pkl', 'wb') as test_clean_file:\n",
    "    pickle.dump(clean(transactions_test, verbose=True), test_clean_file)"
   ]
  },
  {
   "cell_type": "code",
   "execution_count": null,
   "metadata": {},
   "outputs": [],
   "source": []
  }
 ],
 "metadata": {
  "kernelspec": {
   "display_name": "Python 3",
   "language": "python",
   "name": "python3"
  },
  "language_info": {
   "codemirror_mode": {
    "name": "ipython",
    "version": 3
   },
   "file_extension": ".py",
   "mimetype": "text/x-python",
   "name": "python",
   "nbconvert_exporter": "python",
   "pygments_lexer": "ipython3",
   "version": "3.7.0"
  }
 },
 "nbformat": 4,
 "nbformat_minor": 2
}
