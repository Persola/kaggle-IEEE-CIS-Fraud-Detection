{
 "cells": [
  {
   "cell_type": "code",
   "execution_count": 1,
   "metadata": {},
   "outputs": [
    {
     "name": "stderr",
     "output_type": "stream",
     "text": [
      "/Users/lu/.pyenv/versions/3.7.0/lib/python3.7/site-packages/sklearn/ensemble/weight_boosting.py:29: DeprecationWarning: numpy.core.umath_tests is an internal NumPy module and should not be imported. It will be removed in a future NumPy release.\n",
      "  from numpy.core.umath_tests import inner1d\n"
     ]
    }
   ],
   "source": [
    "import csv\n",
    "from itertools import islice\n",
    "import pickle\n",
    "import time\n",
    "\n",
    "import pandas as pd\n",
    "import tqdm\n",
    "from models.dummy import DummyModel\n",
    "from sklearn.preprocessing import RobustScaler\n",
    "from sklearn.ensemble import ExtraTreesClassifier"
   ]
  },
  {
   "cell_type": "code",
   "execution_count": 2,
   "metadata": {},
   "outputs": [],
   "source": [
    "PREDICTION_FILE_HEADERS = 'TransactionID,isFraud\\n'\n",
    "FEATURE_COLUMNS = [ # quick and dirty\n",
    "#   'TransactionID',\n",
    "#   'isFraud',\n",
    "  'TransactionDT',\n",
    "  'TransactionAmt',\n",
    "#   'ProductCD',\n",
    "  'card1',\n",
    "  'card2',\n",
    "  'card3',\n",
    "#   'card4',\n",
    "  'card5',\n",
    "#   'card6',\n",
    "  'addr1',\n",
    "  'addr2',\n",
    "  'dist1',\n",
    "  'dist2',\n",
    "#   'P_emaildomain',\n",
    "#   'R_emaildomain',\n",
    "  'C1',\n",
    "  'C2',\n",
    "  'C3',\n",
    "  'C4',\n",
    "  'C5',\n",
    "  'C6',\n",
    "  'C7',\n",
    "  'C8',\n",
    "  'C9',\n",
    "  'C10',\n",
    "  'C11',\n",
    "  'C12',\n",
    "  'C13',\n",
    "  'C14',\n",
    "  'D1',\n",
    "  'D2',\n",
    "  'D3',\n",
    "  'D4',\n",
    "  'D5',\n",
    "  'D6',\n",
    "  'D7',\n",
    "  'D8',\n",
    "  'D9',\n",
    "  'D10',\n",
    "  'D11',\n",
    "  'D12',\n",
    "  'D13',\n",
    "  'D14',\n",
    "  'D15',\n",
    "  'M1',\n",
    "  'M2',\n",
    "  'M3',\n",
    "  'M4',\n",
    "  'M5',\n",
    "  'M6',\n",
    "  'M7',\n",
    "  'M8',\n",
    "  'M9'\n",
    "  # ignore their features for now\n",
    "]"
   ]
  },
  {
   "cell_type": "code",
   "execution_count": 3,
   "metadata": {},
   "outputs": [],
   "source": [
    "with open('./data/train_transaction_clean.pkl', 'rb') as train_file:\n",
    "    transactions_train = pickle.load(train_file)\n",
    "\n",
    "with open('./data/test_transaction_clean.pkl', 'rb') as test_file:\n",
    "    transactions_test = pickle.load(test_file)"
   ]
  },
  {
   "cell_type": "code",
   "execution_count": 4,
   "metadata": {},
   "outputs": [],
   "source": [
    "def features(cleaned_transactions):\n",
    "    features = cleaned_transactions.loc[:, FEATURE_COLUMNS]\n",
    "    return features.fillna(features.median())"
   ]
  },
  {
   "cell_type": "code",
   "execution_count": 5,
   "metadata": {},
   "outputs": [],
   "source": [
    "def write_predictions(\n",
    "    transaction_ids,\n",
    "    predictions,\n",
    "    filename='predictions'\n",
    "):\n",
    "    if len(transaction_ids) != len(predictions):\n",
    "        raise TypeError(\"labels don't match predictions\")\n",
    "    with open(f'./data/submissions/{filename}.csv', 'w') as predictions_file:\n",
    "        predictions_file.write(PREDICTION_FILE_HEADERS)\n",
    "        for transaction_id, prediction in zip(transaction_ids, predictions):\n",
    "            predictions_file.write(f'{transaction_id},{prediction}\\n')"
   ]
  },
  {
   "cell_type": "code",
   "execution_count": 6,
   "metadata": {},
   "outputs": [],
   "source": [
    "train_features = features(transactions_train)\n",
    "train_targets = transactions_train.isFraud\n",
    "del transactions_train"
   ]
  },
  {
   "cell_type": "code",
   "execution_count": 7,
   "metadata": {},
   "outputs": [],
   "source": [
    "scaler = RobustScaler().fit(train_features)"
   ]
  },
  {
   "cell_type": "code",
   "execution_count": 8,
   "metadata": {
    "scrolled": true
   },
   "outputs": [],
   "source": [
    "etc = ExtraTreesClassifier(\n",
    "    bootstrap=True,\n",
    "    criterion='entropy',\n",
    "    max_features=0.05,\n",
    "    min_samples_leaf=13,\n",
    "    min_samples_split=9,\n",
    "    n_estimators=100\n",
    ")"
   ]
  },
  {
   "cell_type": "code",
   "execution_count": 9,
   "metadata": {
    "scrolled": true
   },
   "outputs": [
    {
     "data": {
      "text/plain": [
       "ExtraTreesClassifier(bootstrap=True, class_weight=None, criterion='entropy',\n",
       "           max_depth=None, max_features=0.05, max_leaf_nodes=None,\n",
       "           min_impurity_decrease=0.0, min_impurity_split=None,\n",
       "           min_samples_leaf=13, min_samples_split=9,\n",
       "           min_weight_fraction_leaf=0.0, n_estimators=100, n_jobs=1,\n",
       "           oob_score=False, random_state=None, verbose=0, warm_start=False)"
      ]
     },
     "execution_count": 9,
     "metadata": {},
     "output_type": "execute_result"
    }
   ],
   "source": [
    "etc.fit(scaler.transform(train_features), train_targets)"
   ]
  },
  {
   "cell_type": "code",
   "execution_count": 10,
   "metadata": {
    "scrolled": true
   },
   "outputs": [],
   "source": [
    "test_features = features(transactions_test)\n",
    "predictions = etc.predict(test_features)\n",
    "write_predictions(test_features.index, predictions, 'extra_trees_1_79686591')"
   ]
  },
  {
   "cell_type": "code",
   "execution_count": null,
   "metadata": {},
   "outputs": [],
   "source": []
  }
 ],
 "metadata": {
  "kernelspec": {
   "display_name": "Python 3",
   "language": "python",
   "name": "python3"
  },
  "language_info": {
   "codemirror_mode": {
    "name": "ipython",
    "version": 3
   },
   "file_extension": ".py",
   "mimetype": "text/x-python",
   "name": "python",
   "nbconvert_exporter": "python",
   "pygments_lexer": "ipython3",
   "version": "3.7.0"
  }
 },
 "nbformat": 4,
 "nbformat_minor": 2
}
