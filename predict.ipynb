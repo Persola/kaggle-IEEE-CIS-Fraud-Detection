{
 "cells": [
  {
   "cell_type": "code",
   "execution_count": 41,
   "metadata": {},
   "outputs": [],
   "source": [
    "import csv\n",
    "from itertools import islice\n",
    "import pickle\n",
    "import time\n",
    "\n",
    "import pandas as pd\n",
    "import tqdm\n",
    "from sklearn import linear_model\n",
    "from tpot import TPOTClassifier\n",
    "\n",
    "from models.dummy import DummyModel"
   ]
  },
  {
   "cell_type": "code",
   "execution_count": 12,
   "metadata": {},
   "outputs": [],
   "source": [
    "PREDICTION_FILE_HEADERS = 'TransactionID,isFraud\\n'\n",
    "FEATURE_COLUMNS = [ # quick and dirty\n",
    "#   'TransactionID',\n",
    "#   'isFraud',\n",
    "  'TransactionDT',\n",
    "  'TransactionAmt',\n",
    "#   'ProductCD',\n",
    "  'card1',\n",
    "  'card2',\n",
    "  'card3',\n",
    "#   'card4',\n",
    "  'card5',\n",
    "#   'card6',\n",
    "  'addr1',\n",
    "  'addr2',\n",
    "  'dist1',\n",
    "  'dist2',\n",
    "#   'P_emaildomain',\n",
    "#   'R_emaildomain',\n",
    "  'C1',\n",
    "  'C2',\n",
    "  'C3',\n",
    "  'C4',\n",
    "  'C5',\n",
    "  'C6',\n",
    "  'C7',\n",
    "  'C8',\n",
    "  'C9',\n",
    "  'C10',\n",
    "  'C11',\n",
    "  'C12',\n",
    "  'C13',\n",
    "  'C14',\n",
    "  'D1',\n",
    "  'D2',\n",
    "  'D3',\n",
    "  'D4',\n",
    "  'D5',\n",
    "  'D6',\n",
    "  'D7',\n",
    "  'D8',\n",
    "  'D9',\n",
    "  'D10',\n",
    "  'D11',\n",
    "  'D12',\n",
    "  'D13',\n",
    "  'D14',\n",
    "  'D15',\n",
    "  'M1',\n",
    "  'M2',\n",
    "  'M3',\n",
    "  'M4',\n",
    "  'M5',\n",
    "  'M6',\n",
    "  'M7',\n",
    "  'M8',\n",
    "  'M9'\n",
    "  # ignore their features for now\n",
    "]"
   ]
  },
  {
   "cell_type": "code",
   "execution_count": 13,
   "metadata": {},
   "outputs": [],
   "source": [
    "with open('./data/train_transaction_clean.pkl', 'rb') as train_file:\n",
    "    transactions_train = pickle.load(train_file)\n",
    "\n",
    "with open('./data/test_transaction_clean.pkl', 'rb') as test_file:\n",
    "    transactions_test = pickle.load(test_file)"
   ]
  },
  {
   "cell_type": "code",
   "execution_count": 14,
   "metadata": {},
   "outputs": [],
   "source": [
    "def features(cleaned_transactions):\n",
    "    features = cleaned_transactions.loc[:, FEATURE_COLUMNS]\n",
    "    return features.fillna(features.median())"
   ]
  },
  {
   "cell_type": "code",
   "execution_count": 15,
   "metadata": {},
   "outputs": [],
   "source": [
    "def write_predictions(\n",
    "    transaction_ids,\n",
    "    predictions,\n",
    "    filename='predictions'\n",
    "):\n",
    "    if len(transaction_ids) != len(predictions):\n",
    "        raise TypeError(\"labels don't match predictions\")\n",
    "    with open(f'./data/submissions/{filename}.csv', 'w') as predictions_file:\n",
    "        predictions_file.write(PREDICTION_FILE_HEADERS)\n",
    "        for transaction_id, prediction in zip(transaction_ids, predictions):\n",
    "            predictions_file.write(f'{transaction_id},{prediction}\\n')"
   ]
  },
  {
   "cell_type": "code",
   "execution_count": 16,
   "metadata": {},
   "outputs": [],
   "source": [
    "train_features = features(transactions_train)\n",
    "train_targets = transactions_train.isFraud\n",
    "del transactions_train"
   ]
  },
  {
   "cell_type": "code",
   "execution_count": 60,
   "metadata": {
    "scrolled": true
   },
   "outputs": [],
   "source": [
    "pipeline_optimizer = TPOTClassifier(\n",
    "    generations=2,\n",
    "    population_size=4,\n",
    "    cv=3,\n",
    "    random_state=951,\n",
    "    verbosity=2\n",
    ")"
   ]
  },
  {
   "cell_type": "code",
   "execution_count": null,
   "metadata": {},
   "outputs": [],
   "source": [
    "# 2/2/3 1_000 -> 3.4s\n",
    "# 2/2/3 10_000 -> 34.6s\n",
    "# 4/2/3 1_000 -> 4.8s\n",
    "# 4/10/3 1_000 -> 27.8s\n",
    "# 6/12/5 1_000 -> 45.2s\n",
    "# 1/1/2 all -> 1258"
   ]
  },
  {
   "cell_type": "code",
   "execution_count": 61,
   "metadata": {
    "scrolled": true
   },
   "outputs": [
    {
     "data": {
      "application/vnd.jupyter.widget-view+json": {
       "model_id": "",
       "version_major": 2,
       "version_minor": 0
      },
      "text/plain": [
       "HBox(children=(IntProgress(value=0, description='Optimization Progress', max=12, style=ProgressStyle(descripti…"
      ]
     },
     "metadata": {},
     "output_type": "display_data"
    },
    {
     "name": "stdout",
     "output_type": "stream",
     "text": [
      "Generation 1 - Current best internal CV score: 0.9763001795080527\n",
      "Generation 2 - Current best internal CV score: 0.9767002195120531\n",
      "\n",
      "Best pipeline: RandomForestClassifier(input_matrix, bootstrap=True, criterion=entropy, max_features=0.5, min_samples_leaf=20, min_samples_split=6, n_estimators=100)\n",
      "runtime: 34.758265018463135s\n"
     ]
    }
   ],
   "source": [
    "start_time = time.time()\n",
    "pipeline_optimizer.fit(train_features[:10_000], train_targets[:10_000])\n",
    "print(f'runtime: {time.time() - start_time}s')"
   ]
  },
  {
   "cell_type": "code",
   "execution_count": 124,
   "metadata": {
    "scrolled": true
   },
   "outputs": [],
   "source": [
    "test_features = features(transactions_test)\n",
    "predictions = pipeline_optimizer.predict(test_features)\n",
    "write_predictions(test_features.index, predictions, 'linear_model_1')\n",
    "\n",
    "# lm = linear_model.LinearRegression()\n",
    "# lm.fit(train_features, train_targets)"
   ]
  },
  {
   "cell_type": "code",
   "execution_count": null,
   "metadata": {},
   "outputs": [],
   "source": []
  }
 ],
 "metadata": {
  "kernelspec": {
   "display_name": "Python 3",
   "language": "python",
   "name": "python3"
  },
  "language_info": {
   "codemirror_mode": {
    "name": "ipython",
    "version": 3
   },
   "file_extension": ".py",
   "mimetype": "text/x-python",
   "name": "python",
   "nbconvert_exporter": "python",
   "pygments_lexer": "ipython3",
   "version": "3.7.0"
  }
 },
 "nbformat": 4,
 "nbformat_minor": 2
}
