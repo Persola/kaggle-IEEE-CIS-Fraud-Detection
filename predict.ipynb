{
 "cells": [
  {
   "cell_type": "code",
   "execution_count": 1,
   "metadata": {},
   "outputs": [],
   "source": [
    "import csv\n",
    "from itertools import islice\n",
    "import pickle\n",
    "import time\n",
    "\n",
    "import pandas as pd\n",
    "import tqdm\n",
    "from sklearn import linear_model\n",
    "from tpot import TPOTClassifier\n",
    "\n",
    "from models.dummy import DummyModel"
   ]
  },
  {
   "cell_type": "code",
   "execution_count": 2,
   "metadata": {},
   "outputs": [],
   "source": [
    "PREDICTION_FILE_HEADERS = 'TransactionID,isFraud\\n'\n",
    "FEATURE_COLUMNS = [ # quick and dirty\n",
    "#   'TransactionID',\n",
    "#   'isFraud',\n",
    "  'TransactionDT',\n",
    "  'TransactionAmt',\n",
    "#   'ProductCD',\n",
    "  'card1',\n",
    "  'card2',\n",
    "  'card3',\n",
    "#   'card4',\n",
    "  'card5',\n",
    "#   'card6',\n",
    "  'addr1',\n",
    "  'addr2',\n",
    "  'dist1',\n",
    "  'dist2',\n",
    "#   'P_emaildomain',\n",
    "#   'R_emaildomain',\n",
    "  'C1',\n",
    "  'C2',\n",
    "  'C3',\n",
    "  'C4',\n",
    "  'C5',\n",
    "  'C6',\n",
    "  'C7',\n",
    "  'C8',\n",
    "  'C9',\n",
    "  'C10',\n",
    "  'C11',\n",
    "  'C12',\n",
    "  'C13',\n",
    "  'C14',\n",
    "  'D1',\n",
    "  'D2',\n",
    "  'D3',\n",
    "  'D4',\n",
    "  'D5',\n",
    "  'D6',\n",
    "  'D7',\n",
    "  'D8',\n",
    "  'D9',\n",
    "  'D10',\n",
    "  'D11',\n",
    "  'D12',\n",
    "  'D13',\n",
    "  'D14',\n",
    "  'D15',\n",
    "  'M1',\n",
    "  'M2',\n",
    "  'M3',\n",
    "  'M4',\n",
    "  'M5',\n",
    "  'M6',\n",
    "  'M7',\n",
    "  'M8',\n",
    "  'M9'\n",
    "  # ignore their features for now\n",
    "]"
   ]
  },
  {
   "cell_type": "code",
   "execution_count": 3,
   "metadata": {},
   "outputs": [],
   "source": [
    "with open('./data/train_transaction_clean.pkl', 'rb') as train_file:\n",
    "    transactions_train = pickle.load(train_file)\n",
    "\n",
    "with open('./data/test_transaction_clean.pkl', 'rb') as test_file:\n",
    "    transactions_test = pickle.load(test_file)"
   ]
  },
  {
   "cell_type": "code",
   "execution_count": 4,
   "metadata": {},
   "outputs": [],
   "source": [
    "def features(cleaned_transactions):\n",
    "    features = cleaned_transactions.loc[:, FEATURE_COLUMNS]\n",
    "    return features.fillna(features.median())"
   ]
  },
  {
   "cell_type": "code",
   "execution_count": 5,
   "metadata": {},
   "outputs": [],
   "source": [
    "def write_predictions(\n",
    "    transaction_ids,\n",
    "    predictions,\n",
    "    filename='predictions'\n",
    "):\n",
    "    if len(transaction_ids) != len(predictions):\n",
    "        raise TypeError(\"labels don't match predictions\")\n",
    "    with open(f'./data/submissions/{filename}.csv', 'w') as predictions_file:\n",
    "        predictions_file.write(PREDICTION_FILE_HEADERS)\n",
    "        for transaction_id, prediction in zip(transaction_ids, predictions):\n",
    "            predictions_file.write(f'{transaction_id},{prediction}\\n')"
   ]
  },
  {
   "cell_type": "code",
   "execution_count": 6,
   "metadata": {},
   "outputs": [],
   "source": [
    "train_features = features(transactions_train)\n",
    "train_targets = transactions_train.isFraud\n",
    "del transactions_train"
   ]
  },
  {
   "cell_type": "code",
   "execution_count": 23,
   "metadata": {
    "scrolled": true
   },
   "outputs": [],
   "source": [
    "pipeline_optimizer = TPOTClassifier(\n",
    "    scoring='roc_auc',\n",
    "    generations=4,\n",
    "    population_size=8,\n",
    "    cv=4,\n",
    "    random_state=951,\n",
    "    verbosity=2\n",
    ")"
   ]
  },
  {
   "cell_type": "code",
   "execution_count": 24,
   "metadata": {},
   "outputs": [],
   "source": [
    "#                   macbook     EC2 (r5.2xlarge) (this is wrong--get more CPU)\n",
    "# 1/1/2  1_000  ->              1.0s\n",
    "# 2/2/3  1_000  ->    3.4s      3.1s\n",
    "# 2/2/3  10_000 ->   34.6      34.3\n",
    "# 4/2/3  1_000  ->    4.8       6.1\n",
    "# 4/10/3 1_000  ->   27.8      25.3\n",
    "# 5/8/4  1_000  ->             17.3\n",
    "# 6/6/4  1_000  ->             26.6\n",
    "# 6/12/5 1_000  ->   45.2      48.5\n",
    "# 1/1/2  all    -> 1258.s    1091.\n"
   ]
  },
  {
   "cell_type": "code",
   "execution_count": 1,
   "metadata": {
    "scrolled": true
   },
   "outputs": [
    {
     "ename": "NameError",
     "evalue": "name 'time' is not defined",
     "output_type": "error",
     "traceback": [
      "\u001b[0;31m---------------------------------------------------------------------------\u001b[0m",
      "\u001b[0;31mNameError\u001b[0m                                 Traceback (most recent call last)",
      "\u001b[0;32m<ipython-input-1-c62fd9600ee8>\u001b[0m in \u001b[0;36m<module>\u001b[0;34m\u001b[0m\n\u001b[0;32m----> 1\u001b[0;31m \u001b[0mstart_time\u001b[0m \u001b[0;34m=\u001b[0m \u001b[0mtime\u001b[0m\u001b[0;34m.\u001b[0m\u001b[0mtime\u001b[0m\u001b[0;34m(\u001b[0m\u001b[0;34m)\u001b[0m\u001b[0;34m\u001b[0m\u001b[0;34m\u001b[0m\u001b[0m\n\u001b[0m\u001b[1;32m      2\u001b[0m \u001b[0mpipeline_optimizer\u001b[0m\u001b[0;34m.\u001b[0m\u001b[0mfit\u001b[0m\u001b[0;34m(\u001b[0m\u001b[0mtrain_features\u001b[0m\u001b[0;34m,\u001b[0m \u001b[0mtrain_targets\u001b[0m\u001b[0;34m)\u001b[0m\u001b[0;34m\u001b[0m\u001b[0;34m\u001b[0m\u001b[0m\n\u001b[1;32m      3\u001b[0m \u001b[0mprint\u001b[0m\u001b[0;34m(\u001b[0m\u001b[0;34mf'runtime: {time.time() - start_time}s'\u001b[0m\u001b[0;34m)\u001b[0m\u001b[0;34m\u001b[0m\u001b[0;34m\u001b[0m\u001b[0m\n",
      "\u001b[0;31mNameError\u001b[0m: name 'time' is not defined"
     ]
    }
   ],
   "source": [
    "start_time = time.time()\n",
    "pipeline_optimizer.fit(train_features, train_targets)\n",
    "print(f'runtime: {time.time() - start_time}s')\n"
   ]
  },
  {
   "cell_type": "code",
   "execution_count": 124,
   "metadata": {
    "scrolled": true
   },
   "outputs": [],
   "source": [
    "test_features = features(transactions_test)\n",
    "predictions = pipeline_optimizer.predict(test_features)\n",
    "write_predictions(test_features.index, predictions, 'linear_model_1')\n",
    "\n",
    "# lm = linear_model.LinearRegression()\n",
    "# lm.fit(train_features, train_targets)"
   ]
  },
  {
   "cell_type": "code",
   "execution_count": null,
   "metadata": {},
   "outputs": [],
   "source": []
  }
 ],
 "metadata": {
  "kernelspec": {
   "display_name": "Python 3",
   "language": "python",
   "name": "python3"
  },
  "language_info": {
   "codemirror_mode": {
    "name": "ipython",
    "version": 3
   },
   "file_extension": ".py",
   "mimetype": "text/x-python",
   "name": "python",
   "nbconvert_exporter": "python",
   "pygments_lexer": "ipython3",
   "version": "3.6.8"
  }
 },
 "nbformat": 4,
 "nbformat_minor": 2
}
