{
 "cells": [
  {
   "cell_type": "code",
   "execution_count": 84,
   "metadata": {},
   "outputs": [],
   "source": [
    "import csv\n",
    "\n",
    "import tqdm\n",
    "\n",
    "from models.dummy import DummyModel"
   ]
  },
  {
   "cell_type": "code",
   "execution_count": 85,
   "metadata": {},
   "outputs": [],
   "source": [
    "SOLUTION_FILE_HEADERS = 'TransactionID,isFraud\\n'"
   ]
  },
  {
   "cell_type": "code",
   "execution_count": 82,
   "metadata": {},
   "outputs": [],
   "source": [
    "def write_predictions(\n",
    "    model,\n",
    "    test_trans_filepath='./data/test_transaction.csv',\n",
    "    write_filepath='./data/dummy_solution.csv'\n",
    "):\n",
    "    with open(test_trans_filepath) as test_trans_file:\n",
    "        trans_reader = csv.reader(test_trans_file)\n",
    "        headers = trans_reader.__next__() # consume them\n",
    "        with open(write_filepath, 'w') as dummy_sol_file:\n",
    "            dummy_sol_file.write(SOLUTION_FILE_HEADERS)\n",
    "            for row in tqdm.tqdm(trans_reader):\n",
    "                transaction_id = row[0]\n",
    "                prediction = model.predict(row[1:])\n",
    "                dummy_sol_file.write(f'{transaction_id},{prediction}\\n')\n"
   ]
  },
  {
   "cell_type": "code",
   "execution_count": 83,
   "metadata": {},
   "outputs": [
    {
     "name": "stderr",
     "output_type": "stream",
     "text": [
      "506691it [00:18, 27305.04it/s]\n"
     ]
    }
   ],
   "source": [
    "write_predictions(DummyModel())"
   ]
  },
  {
   "cell_type": "code",
   "execution_count": null,
   "metadata": {},
   "outputs": [],
   "source": []
  }
 ],
 "metadata": {
  "kernelspec": {
   "display_name": "Python 3",
   "language": "python",
   "name": "python3"
  },
  "language_info": {
   "codemirror_mode": {
    "name": "ipython",
    "version": 3
   },
   "file_extension": ".py",
   "mimetype": "text/x-python",
   "name": "python",
   "nbconvert_exporter": "python",
   "pygments_lexer": "ipython3",
   "version": "3.7.0"
  }
 },
 "nbformat": 4,
 "nbformat_minor": 2
}
